{
 "cells": [
  {
   "cell_type": "code",
   "execution_count": 1,
   "id": "24f0d421-f41d-4355-a348-988619113157",
   "metadata": {},
   "outputs": [],
   "source": [
    "!pip install -q openai"
   ]
  },
  {
   "cell_type": "code",
   "execution_count": 2,
   "id": "de4d01a4-2501-4972-ad53-de591ee3b954",
   "metadata": {},
   "outputs": [],
   "source": [
    "!pip install -q gradio"
   ]
  },
  {
   "cell_type": "code",
   "execution_count": 25,
   "id": "386b3aa8-154d-4a1e-b79c-3974b95bc784",
   "metadata": {},
   "outputs": [],
   "source": [
    "import gradio as gr\n",
    "import openai"
   ]
  },
  {
   "cell_type": "code",
   "execution_count": 22,
   "id": "fc48a0d9-5718-4777-897b-bd5532f4db5e",
   "metadata": {},
   "outputs": [],
   "source": [
    "def greet(words):\n",
    "    return \"You are so cool and I'm so interested to hear about  \" + words"
   ]
  },
  {
   "cell_type": "code",
   "execution_count": 23,
   "id": "15667564-6125-4f16-b495-b7c6ee868bd6",
   "metadata": {},
   "outputs": [],
   "source": [
    "chat = gr.Interface(fn=greet, inputs=gr.Textbox(lines=2, placeholder=\"Ask your personal tutor away...\"), outputs=\"text\")\n",
    "# function will be the predict function of our mode"
   ]
  },
  {
   "cell_type": "code",
   "execution_count": 24,
   "id": "6316143e-dc69-4220-b0fd-28208c4cc923",
   "metadata": {},
   "outputs": [
    {
     "name": "stdout",
     "output_type": "stream",
     "text": [
      "Running on local URL:  http://127.0.0.1:7863\n",
      "\n",
      "To create a public link, set `share=True` in `launch()`.\n"
     ]
    },
    {
     "data": {
      "text/html": [
       "<div><iframe src=\"http://127.0.0.1:7863/\" width=\"100%\" height=\"500\" allow=\"autoplay; camera; microphone; clipboard-read; clipboard-write;\" frameborder=\"0\" allowfullscreen></iframe></div>"
      ],
      "text/plain": [
       "<IPython.core.display.HTML object>"
      ]
     },
     "metadata": {},
     "output_type": "display_data"
    },
    {
     "data": {
      "text/plain": []
     },
     "execution_count": 24,
     "metadata": {},
     "output_type": "execute_result"
    }
   ],
   "source": [
    "chat.launch()"
   ]
  },
  {
   "cell_type": "code",
   "execution_count": null,
   "id": "9a6ebc5b-2d9f-43f3-8a57-2fa5cb78d690",
   "metadata": {},
   "outputs": [],
   "source": []
  }
 ],
 "metadata": {
  "kernelspec": {
   "display_name": "Python 3 (ipykernel)",
   "language": "python",
   "name": "python3"
  },
  "language_info": {
   "codemirror_mode": {
    "name": "ipython",
    "version": 3
   },
   "file_extension": ".py",
   "mimetype": "text/x-python",
   "name": "python",
   "nbconvert_exporter": "python",
   "pygments_lexer": "ipython3",
   "version": "3.9.13"
  }
 },
 "nbformat": 4,
 "nbformat_minor": 5
}
